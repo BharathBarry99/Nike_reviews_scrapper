{
 "cells": [
  {
   "cell_type": "code",
   "execution_count": 2,
   "metadata": {},
   "outputs": [],
   "source": [
    "import requests\n",
    "from bs4 import BeautifulSoup"
   ]
  },
  {
   "cell_type": "code",
   "execution_count": 2,
   "metadata": {},
   "outputs": [],
   "source": [
    "review_list=[]"
   ]
  },
  {
   "cell_type": "code",
   "execution_count": 18,
   "metadata": {},
   "outputs": [
    {
     "ename": "KeyboardInterrupt",
     "evalue": "",
     "output_type": "error",
     "traceback": [
      "\u001b[1;31m---------------------------------------------------------------------------\u001b[0m",
      "\u001b[1;31mKeyboardInterrupt\u001b[0m                         Traceback (most recent call last)",
      "\u001b[1;32m<ipython-input-18-c6c76bd33d72>\u001b[0m in \u001b[0;36m<module>\u001b[1;34m\u001b[0m\n\u001b[0;32m      1\u001b[0m \u001b[1;32mfor\u001b[0m \u001b[0mx\u001b[0m \u001b[1;32min\u001b[0m \u001b[0mrange\u001b[0m\u001b[1;33m(\u001b[0m\u001b[1;36m1\u001b[0m\u001b[1;33m,\u001b[0m\u001b[1;36m21\u001b[0m\u001b[1;33m)\u001b[0m\u001b[1;33m:\u001b[0m\u001b[1;33m\u001b[0m\u001b[1;33m\u001b[0m\u001b[0m\n\u001b[0;32m      2\u001b[0m     \u001b[0murl\u001b[0m \u001b[1;33m=\u001b[0m \u001b[1;34mf'https://www.consumeraffairs.com/sporting_goods/nike.html?page={x}#scroll_to_reviews=true'\u001b[0m\u001b[1;33m\u001b[0m\u001b[1;33m\u001b[0m\u001b[0m\n\u001b[1;32m----> 3\u001b[1;33m     \u001b[0mresponse\u001b[0m \u001b[1;33m=\u001b[0m \u001b[0mrequests\u001b[0m\u001b[1;33m.\u001b[0m\u001b[0mget\u001b[0m\u001b[1;33m(\u001b[0m\u001b[1;34m'http://localhost:8050/render.html'\u001b[0m\u001b[1;33m,\u001b[0m\u001b[0mparams\u001b[0m\u001b[1;33m=\u001b[0m\u001b[1;33m{\u001b[0m\u001b[1;34m'url'\u001b[0m\u001b[1;33m:\u001b[0m \u001b[0murl\u001b[0m\u001b[1;33m,\u001b[0m\u001b[1;34m'wait'\u001b[0m\u001b[1;33m:\u001b[0m\u001b[1;36m2\u001b[0m\u001b[1;33m}\u001b[0m\u001b[1;33m)\u001b[0m\u001b[1;33m\u001b[0m\u001b[1;33m\u001b[0m\u001b[0m\n\u001b[0m\u001b[0;32m      4\u001b[0m     \u001b[0msoup\u001b[0m \u001b[1;33m=\u001b[0m \u001b[0mBeautifulSoup\u001b[0m\u001b[1;33m(\u001b[0m\u001b[0mresponse\u001b[0m\u001b[1;33m.\u001b[0m\u001b[0mcontent\u001b[0m\u001b[1;33m,\u001b[0m \u001b[1;34m'html.parser'\u001b[0m\u001b[1;33m)\u001b[0m\u001b[1;33m\u001b[0m\u001b[1;33m\u001b[0m\u001b[0m\n\u001b[0;32m      5\u001b[0m     \u001b[0mreviews\u001b[0m \u001b[1;33m=\u001b[0m \u001b[0msoup\u001b[0m\u001b[1;33m.\u001b[0m\u001b[0mfind_all\u001b[0m\u001b[1;33m(\u001b[0m\u001b[1;34m'div'\u001b[0m\u001b[1;33m,\u001b[0m \u001b[1;33m{\u001b[0m\u001b[1;34m'class'\u001b[0m\u001b[1;33m:\u001b[0m\u001b[1;34m'rvw-bd'\u001b[0m\u001b[1;33m}\u001b[0m\u001b[1;33m)\u001b[0m\u001b[1;33m\u001b[0m\u001b[1;33m\u001b[0m\u001b[0m\n",
      "\u001b[1;32md:\\NOT GAMES\\ANACONDA NAVIGATOR\\envs\\env_full\\lib\\site-packages\\requests\\api.py\u001b[0m in \u001b[0;36mget\u001b[1;34m(url, params, **kwargs)\u001b[0m\n\u001b[0;32m     73\u001b[0m     \"\"\"\n\u001b[0;32m     74\u001b[0m \u001b[1;33m\u001b[0m\u001b[0m\n\u001b[1;32m---> 75\u001b[1;33m     \u001b[1;32mreturn\u001b[0m \u001b[0mrequest\u001b[0m\u001b[1;33m(\u001b[0m\u001b[1;34m'get'\u001b[0m\u001b[1;33m,\u001b[0m \u001b[0murl\u001b[0m\u001b[1;33m,\u001b[0m \u001b[0mparams\u001b[0m\u001b[1;33m=\u001b[0m\u001b[0mparams\u001b[0m\u001b[1;33m,\u001b[0m \u001b[1;33m**\u001b[0m\u001b[0mkwargs\u001b[0m\u001b[1;33m)\u001b[0m\u001b[1;33m\u001b[0m\u001b[1;33m\u001b[0m\u001b[0m\n\u001b[0m\u001b[0;32m     76\u001b[0m \u001b[1;33m\u001b[0m\u001b[0m\n\u001b[0;32m     77\u001b[0m \u001b[1;33m\u001b[0m\u001b[0m\n",
      "\u001b[1;32md:\\NOT GAMES\\ANACONDA NAVIGATOR\\envs\\env_full\\lib\\site-packages\\requests\\api.py\u001b[0m in \u001b[0;36mrequest\u001b[1;34m(method, url, **kwargs)\u001b[0m\n\u001b[0;32m     59\u001b[0m     \u001b[1;31m# cases, and look like a memory leak in others.\u001b[0m\u001b[1;33m\u001b[0m\u001b[1;33m\u001b[0m\u001b[1;33m\u001b[0m\u001b[0m\n\u001b[0;32m     60\u001b[0m     \u001b[1;32mwith\u001b[0m \u001b[0msessions\u001b[0m\u001b[1;33m.\u001b[0m\u001b[0mSession\u001b[0m\u001b[1;33m(\u001b[0m\u001b[1;33m)\u001b[0m \u001b[1;32mas\u001b[0m \u001b[0msession\u001b[0m\u001b[1;33m:\u001b[0m\u001b[1;33m\u001b[0m\u001b[1;33m\u001b[0m\u001b[0m\n\u001b[1;32m---> 61\u001b[1;33m         \u001b[1;32mreturn\u001b[0m \u001b[0msession\u001b[0m\u001b[1;33m.\u001b[0m\u001b[0mrequest\u001b[0m\u001b[1;33m(\u001b[0m\u001b[0mmethod\u001b[0m\u001b[1;33m=\u001b[0m\u001b[0mmethod\u001b[0m\u001b[1;33m,\u001b[0m \u001b[0murl\u001b[0m\u001b[1;33m=\u001b[0m\u001b[0murl\u001b[0m\u001b[1;33m,\u001b[0m \u001b[1;33m**\u001b[0m\u001b[0mkwargs\u001b[0m\u001b[1;33m)\u001b[0m\u001b[1;33m\u001b[0m\u001b[1;33m\u001b[0m\u001b[0m\n\u001b[0m\u001b[0;32m     62\u001b[0m \u001b[1;33m\u001b[0m\u001b[0m\n\u001b[0;32m     63\u001b[0m \u001b[1;33m\u001b[0m\u001b[0m\n",
      "\u001b[1;32md:\\NOT GAMES\\ANACONDA NAVIGATOR\\envs\\env_full\\lib\\site-packages\\requests\\sessions.py\u001b[0m in \u001b[0;36mrequest\u001b[1;34m(self, method, url, params, data, headers, cookies, files, auth, timeout, allow_redirects, proxies, hooks, stream, verify, cert, json)\u001b[0m\n\u001b[0;32m    540\u001b[0m         }\n\u001b[0;32m    541\u001b[0m         \u001b[0msend_kwargs\u001b[0m\u001b[1;33m.\u001b[0m\u001b[0mupdate\u001b[0m\u001b[1;33m(\u001b[0m\u001b[0msettings\u001b[0m\u001b[1;33m)\u001b[0m\u001b[1;33m\u001b[0m\u001b[1;33m\u001b[0m\u001b[0m\n\u001b[1;32m--> 542\u001b[1;33m         \u001b[0mresp\u001b[0m \u001b[1;33m=\u001b[0m \u001b[0mself\u001b[0m\u001b[1;33m.\u001b[0m\u001b[0msend\u001b[0m\u001b[1;33m(\u001b[0m\u001b[0mprep\u001b[0m\u001b[1;33m,\u001b[0m \u001b[1;33m**\u001b[0m\u001b[0msend_kwargs\u001b[0m\u001b[1;33m)\u001b[0m\u001b[1;33m\u001b[0m\u001b[1;33m\u001b[0m\u001b[0m\n\u001b[0m\u001b[0;32m    543\u001b[0m \u001b[1;33m\u001b[0m\u001b[0m\n\u001b[0;32m    544\u001b[0m         \u001b[1;32mreturn\u001b[0m \u001b[0mresp\u001b[0m\u001b[1;33m\u001b[0m\u001b[1;33m\u001b[0m\u001b[0m\n",
      "\u001b[1;32md:\\NOT GAMES\\ANACONDA NAVIGATOR\\envs\\env_full\\lib\\site-packages\\requests\\sessions.py\u001b[0m in \u001b[0;36msend\u001b[1;34m(self, request, **kwargs)\u001b[0m\n\u001b[0;32m    653\u001b[0m \u001b[1;33m\u001b[0m\u001b[0m\n\u001b[0;32m    654\u001b[0m         \u001b[1;31m# Send the request\u001b[0m\u001b[1;33m\u001b[0m\u001b[1;33m\u001b[0m\u001b[1;33m\u001b[0m\u001b[0m\n\u001b[1;32m--> 655\u001b[1;33m         \u001b[0mr\u001b[0m \u001b[1;33m=\u001b[0m \u001b[0madapter\u001b[0m\u001b[1;33m.\u001b[0m\u001b[0msend\u001b[0m\u001b[1;33m(\u001b[0m\u001b[0mrequest\u001b[0m\u001b[1;33m,\u001b[0m \u001b[1;33m**\u001b[0m\u001b[0mkwargs\u001b[0m\u001b[1;33m)\u001b[0m\u001b[1;33m\u001b[0m\u001b[1;33m\u001b[0m\u001b[0m\n\u001b[0m\u001b[0;32m    656\u001b[0m \u001b[1;33m\u001b[0m\u001b[0m\n\u001b[0;32m    657\u001b[0m         \u001b[1;31m# Total elapsed time of the request (approximately)\u001b[0m\u001b[1;33m\u001b[0m\u001b[1;33m\u001b[0m\u001b[1;33m\u001b[0m\u001b[0m\n",
      "\u001b[1;32md:\\NOT GAMES\\ANACONDA NAVIGATOR\\envs\\env_full\\lib\\site-packages\\requests\\adapters.py\u001b[0m in \u001b[0;36msend\u001b[1;34m(self, request, stream, timeout, verify, cert, proxies)\u001b[0m\n\u001b[0;32m    447\u001b[0m                     \u001b[0mdecode_content\u001b[0m\u001b[1;33m=\u001b[0m\u001b[1;32mFalse\u001b[0m\u001b[1;33m,\u001b[0m\u001b[1;33m\u001b[0m\u001b[1;33m\u001b[0m\u001b[0m\n\u001b[0;32m    448\u001b[0m                     \u001b[0mretries\u001b[0m\u001b[1;33m=\u001b[0m\u001b[0mself\u001b[0m\u001b[1;33m.\u001b[0m\u001b[0mmax_retries\u001b[0m\u001b[1;33m,\u001b[0m\u001b[1;33m\u001b[0m\u001b[1;33m\u001b[0m\u001b[0m\n\u001b[1;32m--> 449\u001b[1;33m                     \u001b[0mtimeout\u001b[0m\u001b[1;33m=\u001b[0m\u001b[0mtimeout\u001b[0m\u001b[1;33m\u001b[0m\u001b[1;33m\u001b[0m\u001b[0m\n\u001b[0m\u001b[0;32m    450\u001b[0m                 )\n\u001b[0;32m    451\u001b[0m \u001b[1;33m\u001b[0m\u001b[0m\n",
      "\u001b[1;32md:\\NOT GAMES\\ANACONDA NAVIGATOR\\envs\\env_full\\lib\\site-packages\\urllib3\\connectionpool.py\u001b[0m in \u001b[0;36murlopen\u001b[1;34m(self, method, url, body, headers, retries, redirect, assert_same_host, timeout, pool_timeout, release_conn, chunked, body_pos, **response_kw)\u001b[0m\n\u001b[0;32m    704\u001b[0m                 \u001b[0mbody\u001b[0m\u001b[1;33m=\u001b[0m\u001b[0mbody\u001b[0m\u001b[1;33m,\u001b[0m\u001b[1;33m\u001b[0m\u001b[1;33m\u001b[0m\u001b[0m\n\u001b[0;32m    705\u001b[0m                 \u001b[0mheaders\u001b[0m\u001b[1;33m=\u001b[0m\u001b[0mheaders\u001b[0m\u001b[1;33m,\u001b[0m\u001b[1;33m\u001b[0m\u001b[1;33m\u001b[0m\u001b[0m\n\u001b[1;32m--> 706\u001b[1;33m                 \u001b[0mchunked\u001b[0m\u001b[1;33m=\u001b[0m\u001b[0mchunked\u001b[0m\u001b[1;33m,\u001b[0m\u001b[1;33m\u001b[0m\u001b[1;33m\u001b[0m\u001b[0m\n\u001b[0m\u001b[0;32m    707\u001b[0m             )\n\u001b[0;32m    708\u001b[0m \u001b[1;33m\u001b[0m\u001b[0m\n",
      "\u001b[1;32md:\\NOT GAMES\\ANACONDA NAVIGATOR\\envs\\env_full\\lib\\site-packages\\urllib3\\connectionpool.py\u001b[0m in \u001b[0;36m_make_request\u001b[1;34m(self, conn, method, url, timeout, chunked, **httplib_request_kw)\u001b[0m\n\u001b[0;32m    443\u001b[0m                     \u001b[1;31m# Python 3 (including for exceptions like SystemExit).\u001b[0m\u001b[1;33m\u001b[0m\u001b[1;33m\u001b[0m\u001b[1;33m\u001b[0m\u001b[0m\n\u001b[0;32m    444\u001b[0m                     \u001b[1;31m# Otherwise it looks like a bug in the code.\u001b[0m\u001b[1;33m\u001b[0m\u001b[1;33m\u001b[0m\u001b[1;33m\u001b[0m\u001b[0m\n\u001b[1;32m--> 445\u001b[1;33m                     \u001b[0msix\u001b[0m\u001b[1;33m.\u001b[0m\u001b[0mraise_from\u001b[0m\u001b[1;33m(\u001b[0m\u001b[0me\u001b[0m\u001b[1;33m,\u001b[0m \u001b[1;32mNone\u001b[0m\u001b[1;33m)\u001b[0m\u001b[1;33m\u001b[0m\u001b[1;33m\u001b[0m\u001b[0m\n\u001b[0m\u001b[0;32m    446\u001b[0m         \u001b[1;32mexcept\u001b[0m \u001b[1;33m(\u001b[0m\u001b[0mSocketTimeout\u001b[0m\u001b[1;33m,\u001b[0m \u001b[0mBaseSSLError\u001b[0m\u001b[1;33m,\u001b[0m \u001b[0mSocketError\u001b[0m\u001b[1;33m)\u001b[0m \u001b[1;32mas\u001b[0m \u001b[0me\u001b[0m\u001b[1;33m:\u001b[0m\u001b[1;33m\u001b[0m\u001b[1;33m\u001b[0m\u001b[0m\n\u001b[0;32m    447\u001b[0m             \u001b[0mself\u001b[0m\u001b[1;33m.\u001b[0m\u001b[0m_raise_timeout\u001b[0m\u001b[1;33m(\u001b[0m\u001b[0merr\u001b[0m\u001b[1;33m=\u001b[0m\u001b[0me\u001b[0m\u001b[1;33m,\u001b[0m \u001b[0murl\u001b[0m\u001b[1;33m=\u001b[0m\u001b[0murl\u001b[0m\u001b[1;33m,\u001b[0m \u001b[0mtimeout_value\u001b[0m\u001b[1;33m=\u001b[0m\u001b[0mread_timeout\u001b[0m\u001b[1;33m)\u001b[0m\u001b[1;33m\u001b[0m\u001b[1;33m\u001b[0m\u001b[0m\n",
      "\u001b[1;32md:\\NOT GAMES\\ANACONDA NAVIGATOR\\envs\\env_full\\lib\\site-packages\\urllib3\\packages\\six.py\u001b[0m in \u001b[0;36mraise_from\u001b[1;34m(value, from_value)\u001b[0m\n",
      "\u001b[1;32md:\\NOT GAMES\\ANACONDA NAVIGATOR\\envs\\env_full\\lib\\site-packages\\urllib3\\connectionpool.py\u001b[0m in \u001b[0;36m_make_request\u001b[1;34m(self, conn, method, url, timeout, chunked, **httplib_request_kw)\u001b[0m\n\u001b[0;32m    438\u001b[0m                 \u001b[1;31m# Python 3\u001b[0m\u001b[1;33m\u001b[0m\u001b[1;33m\u001b[0m\u001b[1;33m\u001b[0m\u001b[0m\n\u001b[0;32m    439\u001b[0m                 \u001b[1;32mtry\u001b[0m\u001b[1;33m:\u001b[0m\u001b[1;33m\u001b[0m\u001b[1;33m\u001b[0m\u001b[0m\n\u001b[1;32m--> 440\u001b[1;33m                     \u001b[0mhttplib_response\u001b[0m \u001b[1;33m=\u001b[0m \u001b[0mconn\u001b[0m\u001b[1;33m.\u001b[0m\u001b[0mgetresponse\u001b[0m\u001b[1;33m(\u001b[0m\u001b[1;33m)\u001b[0m\u001b[1;33m\u001b[0m\u001b[1;33m\u001b[0m\u001b[0m\n\u001b[0m\u001b[0;32m    441\u001b[0m                 \u001b[1;32mexcept\u001b[0m \u001b[0mBaseException\u001b[0m \u001b[1;32mas\u001b[0m \u001b[0me\u001b[0m\u001b[1;33m:\u001b[0m\u001b[1;33m\u001b[0m\u001b[1;33m\u001b[0m\u001b[0m\n\u001b[0;32m    442\u001b[0m                     \u001b[1;31m# Remove the TypeError from the exception chain in\u001b[0m\u001b[1;33m\u001b[0m\u001b[1;33m\u001b[0m\u001b[1;33m\u001b[0m\u001b[0m\n",
      "\u001b[1;32md:\\NOT GAMES\\ANACONDA NAVIGATOR\\envs\\env_full\\lib\\http\\client.py\u001b[0m in \u001b[0;36mgetresponse\u001b[1;34m(self)\u001b[0m\n\u001b[0;32m   1377\u001b[0m         \u001b[1;32mtry\u001b[0m\u001b[1;33m:\u001b[0m\u001b[1;33m\u001b[0m\u001b[1;33m\u001b[0m\u001b[0m\n\u001b[0;32m   1378\u001b[0m             \u001b[1;32mtry\u001b[0m\u001b[1;33m:\u001b[0m\u001b[1;33m\u001b[0m\u001b[1;33m\u001b[0m\u001b[0m\n\u001b[1;32m-> 1379\u001b[1;33m                 \u001b[0mresponse\u001b[0m\u001b[1;33m.\u001b[0m\u001b[0mbegin\u001b[0m\u001b[1;33m(\u001b[0m\u001b[1;33m)\u001b[0m\u001b[1;33m\u001b[0m\u001b[1;33m\u001b[0m\u001b[0m\n\u001b[0m\u001b[0;32m   1380\u001b[0m             \u001b[1;32mexcept\u001b[0m \u001b[0mConnectionError\u001b[0m\u001b[1;33m:\u001b[0m\u001b[1;33m\u001b[0m\u001b[1;33m\u001b[0m\u001b[0m\n\u001b[0;32m   1381\u001b[0m                 \u001b[0mself\u001b[0m\u001b[1;33m.\u001b[0m\u001b[0mclose\u001b[0m\u001b[1;33m(\u001b[0m\u001b[1;33m)\u001b[0m\u001b[1;33m\u001b[0m\u001b[1;33m\u001b[0m\u001b[0m\n",
      "\u001b[1;32md:\\NOT GAMES\\ANACONDA NAVIGATOR\\envs\\env_full\\lib\\http\\client.py\u001b[0m in \u001b[0;36mbegin\u001b[1;34m(self)\u001b[0m\n\u001b[0;32m    309\u001b[0m         \u001b[1;31m# read until we get a non-100 response\u001b[0m\u001b[1;33m\u001b[0m\u001b[1;33m\u001b[0m\u001b[1;33m\u001b[0m\u001b[0m\n\u001b[0;32m    310\u001b[0m         \u001b[1;32mwhile\u001b[0m \u001b[1;32mTrue\u001b[0m\u001b[1;33m:\u001b[0m\u001b[1;33m\u001b[0m\u001b[1;33m\u001b[0m\u001b[0m\n\u001b[1;32m--> 311\u001b[1;33m             \u001b[0mversion\u001b[0m\u001b[1;33m,\u001b[0m \u001b[0mstatus\u001b[0m\u001b[1;33m,\u001b[0m \u001b[0mreason\u001b[0m \u001b[1;33m=\u001b[0m \u001b[0mself\u001b[0m\u001b[1;33m.\u001b[0m\u001b[0m_read_status\u001b[0m\u001b[1;33m(\u001b[0m\u001b[1;33m)\u001b[0m\u001b[1;33m\u001b[0m\u001b[1;33m\u001b[0m\u001b[0m\n\u001b[0m\u001b[0;32m    312\u001b[0m             \u001b[1;32mif\u001b[0m \u001b[0mstatus\u001b[0m \u001b[1;33m!=\u001b[0m \u001b[0mCONTINUE\u001b[0m\u001b[1;33m:\u001b[0m\u001b[1;33m\u001b[0m\u001b[1;33m\u001b[0m\u001b[0m\n\u001b[0;32m    313\u001b[0m                 \u001b[1;32mbreak\u001b[0m\u001b[1;33m\u001b[0m\u001b[1;33m\u001b[0m\u001b[0m\n",
      "\u001b[1;32md:\\NOT GAMES\\ANACONDA NAVIGATOR\\envs\\env_full\\lib\\http\\client.py\u001b[0m in \u001b[0;36m_read_status\u001b[1;34m(self)\u001b[0m\n\u001b[0;32m    270\u001b[0m \u001b[1;33m\u001b[0m\u001b[0m\n\u001b[0;32m    271\u001b[0m     \u001b[1;32mdef\u001b[0m \u001b[0m_read_status\u001b[0m\u001b[1;33m(\u001b[0m\u001b[0mself\u001b[0m\u001b[1;33m)\u001b[0m\u001b[1;33m:\u001b[0m\u001b[1;33m\u001b[0m\u001b[1;33m\u001b[0m\u001b[0m\n\u001b[1;32m--> 272\u001b[1;33m         \u001b[0mline\u001b[0m \u001b[1;33m=\u001b[0m \u001b[0mstr\u001b[0m\u001b[1;33m(\u001b[0m\u001b[0mself\u001b[0m\u001b[1;33m.\u001b[0m\u001b[0mfp\u001b[0m\u001b[1;33m.\u001b[0m\u001b[0mreadline\u001b[0m\u001b[1;33m(\u001b[0m\u001b[0m_MAXLINE\u001b[0m \u001b[1;33m+\u001b[0m \u001b[1;36m1\u001b[0m\u001b[1;33m)\u001b[0m\u001b[1;33m,\u001b[0m \u001b[1;34m\"iso-8859-1\"\u001b[0m\u001b[1;33m)\u001b[0m\u001b[1;33m\u001b[0m\u001b[1;33m\u001b[0m\u001b[0m\n\u001b[0m\u001b[0;32m    273\u001b[0m         \u001b[1;32mif\u001b[0m \u001b[0mlen\u001b[0m\u001b[1;33m(\u001b[0m\u001b[0mline\u001b[0m\u001b[1;33m)\u001b[0m \u001b[1;33m>\u001b[0m \u001b[0m_MAXLINE\u001b[0m\u001b[1;33m:\u001b[0m\u001b[1;33m\u001b[0m\u001b[1;33m\u001b[0m\u001b[0m\n\u001b[0;32m    274\u001b[0m             \u001b[1;32mraise\u001b[0m \u001b[0mLineTooLong\u001b[0m\u001b[1;33m(\u001b[0m\u001b[1;34m\"status line\"\u001b[0m\u001b[1;33m)\u001b[0m\u001b[1;33m\u001b[0m\u001b[1;33m\u001b[0m\u001b[0m\n",
      "\u001b[1;32md:\\NOT GAMES\\ANACONDA NAVIGATOR\\envs\\env_full\\lib\\socket.py\u001b[0m in \u001b[0;36mreadinto\u001b[1;34m(self, b)\u001b[0m\n\u001b[0;32m    584\u001b[0m         \u001b[1;32mwhile\u001b[0m \u001b[1;32mTrue\u001b[0m\u001b[1;33m:\u001b[0m\u001b[1;33m\u001b[0m\u001b[1;33m\u001b[0m\u001b[0m\n\u001b[0;32m    585\u001b[0m             \u001b[1;32mtry\u001b[0m\u001b[1;33m:\u001b[0m\u001b[1;33m\u001b[0m\u001b[1;33m\u001b[0m\u001b[0m\n\u001b[1;32m--> 586\u001b[1;33m                 \u001b[1;32mreturn\u001b[0m \u001b[0mself\u001b[0m\u001b[1;33m.\u001b[0m\u001b[0m_sock\u001b[0m\u001b[1;33m.\u001b[0m\u001b[0mrecv_into\u001b[0m\u001b[1;33m(\u001b[0m\u001b[0mb\u001b[0m\u001b[1;33m)\u001b[0m\u001b[1;33m\u001b[0m\u001b[1;33m\u001b[0m\u001b[0m\n\u001b[0m\u001b[0;32m    587\u001b[0m             \u001b[1;32mexcept\u001b[0m \u001b[0mtimeout\u001b[0m\u001b[1;33m:\u001b[0m\u001b[1;33m\u001b[0m\u001b[1;33m\u001b[0m\u001b[0m\n\u001b[0;32m    588\u001b[0m                 \u001b[0mself\u001b[0m\u001b[1;33m.\u001b[0m\u001b[0m_timeout_occurred\u001b[0m \u001b[1;33m=\u001b[0m \u001b[1;32mTrue\u001b[0m\u001b[1;33m\u001b[0m\u001b[1;33m\u001b[0m\u001b[0m\n",
      "\u001b[1;31mKeyboardInterrupt\u001b[0m: "
     ]
    }
   ],
   "source": [
    "\n",
    "for x in range(1,21):\n",
    "    url = f'https://www.consumeraffairs.com/sporting_goods/nike.html?page={x}#scroll_to_reviews=true'\n",
    "    response = requests.get('http://localhost:8050/render.html',params={'url': url,'wait':2})\n",
    "    soup = BeautifulSoup(response.content, 'html.parser')\n",
    "    reviews = soup.find_all('div', {'class':'rvw-bd'})\n",
    "    for item in reviews:\n",
    "        try:\n",
    "            review_list.append(item.find_all('p')[1].text)\n",
    "        except:\n",
    "            pass\n",
    "    "
   ]
  },
  {
   "cell_type": "code",
   "execution_count": 4,
   "metadata": {},
   "outputs": [
    {
     "data": {
      "text/plain": [
       "413"
      ]
     },
     "execution_count": 4,
     "metadata": {},
     "output_type": "execute_result"
    }
   ],
   "source": [
    "len(review_list)"
   ]
  },
  {
   "cell_type": "code",
   "execution_count": 3,
   "metadata": {},
   "outputs": [],
   "source": [
    "import pickle\n"
   ]
  },
  {
   "cell_type": "code",
   "execution_count": 16,
   "metadata": {},
   "outputs": [],
   "source": [
    "with open('data2.txt', 'wb') as f:\n",
    "    pickle.dump(review_list, f)\n",
    "f.close()"
   ]
  },
  {
   "cell_type": "code",
   "execution_count": 5,
   "metadata": {},
   "outputs": [
    {
     "name": "stdout",
     "output_type": "stream",
     "text": [
      "I bought my son Nike tennis shoes and wasn't satisfied with them and got Nike's address and returned them.  They were recieved and rejected as a return but they sent me someone elses shoes in return. I called and asked what to do and they told me since there had been a mix up that I was just to do whatever with the shoes that they sent me and I would recieve a voucher on my email for $80.00. I have called several times, been put on hold a lot and was told that they are just slow in processing and to watch my email.  It has been over 6 weeks since all of this has taken place and I feel that its been too long.When I call they look everything up on the computer and said yes, you are in here. I would like the replacement shoes that I was promised.\n"
     ]
    }
   ],
   "source": [
    "with open('dataset.txt', 'rb') as f:\n",
    "    # Load the pickled data from the file\n",
    "    data = pickle.load(f)\n",
    "\n",
    "# Now you can use the loaded data as you wish\n",
    "print((data[-1]))"
   ]
  },
  {
   "cell_type": "code",
   "execution_count": null,
   "metadata": {},
   "outputs": [],
   "source": []
  },
  {
   "cell_type": "code",
   "execution_count": 6,
   "metadata": {},
   "outputs": [],
   "source": [
    "# Send a GET request to the URL\n",
    "response = requests.get('http://localhost:8050/render.html',params={'url': url,'wait':2})"
   ]
  },
  {
   "cell_type": "code",
   "execution_count": null,
   "metadata": {},
   "outputs": [],
   "source": []
  },
  {
   "cell_type": "code",
   "execution_count": 7,
   "metadata": {},
   "outputs": [],
   "source": [
    "\n",
    "# Parse the HTML content using BeautifulSoup\n",
    "soup = BeautifulSoup(response.content, 'html.parser')"
   ]
  },
  {
   "cell_type": "code",
   "execution_count": 8,
   "metadata": {},
   "outputs": [
    {
     "name": "stdout",
     "output_type": "stream",
     "text": [
      "Top 701 Nike Reviews\n"
     ]
    }
   ],
   "source": [
    "print(soup.title.text)"
   ]
  },
  {
   "cell_type": "code",
   "execution_count": 52,
   "metadata": {},
   "outputs": [],
   "source": [
    "\n",
    "# Find all the review containers\n",
    "reviews = soup.find_all('div', {'class':'rvw-bd'})\n"
   ]
  },
  {
   "cell_type": "code",
   "execution_count": 6,
   "metadata": {},
   "outputs": [],
   "source": [
    "# reviews"
   ]
  },
  {
   "cell_type": "code",
   "execution_count": 57,
   "metadata": {},
   "outputs": [
    {
     "name": "stdout",
     "output_type": "stream",
     "text": [
      "I ordered a Jordan’s 1 size ten they took money off my disability card twice and got a run around about why the shoes wasn’t shipped speedy. They then told me the shoes were late because inclement weather. Two weeks I get the shoes. The box was messed up. The shoes in the back had something on the back. I was told why I saw two charges on my account because they put a pin on my account for the cost. I don’t get that because then when they took the charge now I am overdrawn 86 dollars. This is going to cause me to be behind on a bill. It was shown it was taken off on February first and then they go back on and take it off February 13.\n",
      "\n",
      "\n",
      "I bought my daughter a pair of Nike WinFlo9's in August of 2022. By November, they squeaked so bad when she would walk in them, the kids at school made fun of her. Because I spent $100 on them, she still has to wear them. When I called Nike to try and make it right, they said it was because they probably got wet and they didn't consider it a defect. So, the moral of the story is, don't buy Nike's if you are going to wear your shoes outside.\n",
      "\n",
      "\n",
      "I placed an order on Saturday (01/14) and paid for expedited overnight delivery. When I checked the Nike.com order status and FedEx tracking number on Tuesday (01/17) it indicated that a label has been created but that it hasn't been received by FedEx. I explained this to Karol (the Nike.com CSR) and she said that \"I was checking here, and you are right. It seems the order has a label created, but it hasn't shipped yet.\" Karol also said that \"It's scanned, and at the warehouse. I just refunded you the extra shipping. And as I mentioned, let's wait until the end of the day, if you don't get it, we can give a full refund, or we can resend the shoes\". \n",
      "\n",
      "\n",
      "Two months after placing the order, when I queried about the shipment of my purchases, I have been notified, products are not available and being advised that, purchased amount will be refunded in days. If products are not available, why they made me wait two months? Not a acceptable solution.\n",
      "\n",
      "\n",
      "A week before Christmas I chatted with someone online. They first told me that the order was shipped and it appears to be lost. After asking who they used for shipping he changed his story and told me they never shipped. That they dropped the ball and didn’t get the order out. So present won’t be here. Nice.\n",
      "\n",
      "\n",
      "Last three to four (3-4) pairs of sneakers (Monarch IV) the soles and tops have separated, became unglued. What is the fix? Also, Nike seems reluctant to address the problem after 60 days from purchase or delivery to the customer. Also, their return policy requires the customer to pay postage.\n",
      "\n",
      "\n",
      "Do not buy online from Nike. I ordered 2 shoes... One arrived in a decent time, but the second has yet to come after over a month. They have not clue where this second pair is... FedEx says it was shipped to a US address. Most agents speak broken English and for sure do not know what is going on... I have now called about 5 times. Never again... Still do not have the shoes.\n",
      "\n",
      "\n",
      "Purchased a pair of Nike Air Jordans for my 14-year-old daughter and after 4 months the sneakers started to separate. The rubber part that is connected to the leather part is coming apart. Wish I could post a picture. Not what I expect from a $200 pair of sneakers. When you don't have your receipt, they will not refund nor give you another pair instead they give Nike credit voucher. Not sure about other people but after this experience I am not happy with a voucher. I won't name any other company but had an issue with work boots with a different company they asked for pictures and within 1 week I have a new pair at my front door, now that's a company that stands behind their product. So Nike you have lost me as a customer.\n",
      "\n",
      "\n",
      "I ordered three pairs of expensive trainers for my relatives' birthdays. After waiting almost 2 weeks for the delivery, Nike cancelled my order. I complained to customer service who apologized and offered me an extra 10% discount, however when I came to re-order they would not fulfil their promise and accused me of cancelling the original order…\n",
      "\n",
      "\n",
      "I bought Nike Air Monarch IV men's training shoes. I did like the comfort of them, but they squeaked. Because I liked the comfort I ordered a second pair and they also squeaked. I went to the store where I got them and they told me I could not return them because it was a product defect to go to Nike. So I contacted Nike and they told me because this was not a reason in their system they could not start a claim. I asked for a supervisor and the supervisor refused the call because there was nothing they could do so I am out $175 for 2 pair of very squeaky shoes.\n",
      "\n",
      "\n"
     ]
    }
   ],
   "source": [
    "for item in reviews:\n",
    "    print((item.find_all('p')[1].text))\n",
    "    print(\"\\n\")"
   ]
  },
  {
   "cell_type": "code",
   "execution_count": 53,
   "metadata": {},
   "outputs": [],
   "source": [
    "review_list=[]\n",
    "for item in reviews:\n",
    "    review_list.append(item.find('span').text)"
   ]
  },
  {
   "cell_type": "code",
   "execution_count": 57,
   "metadata": {},
   "outputs": [
    {
     "data": {
      "text/plain": [
       "87"
      ]
     },
     "execution_count": 57,
     "metadata": {},
     "output_type": "execute_result"
    }
   ],
   "source": [
    "len(review_list)"
   ]
  },
  {
   "cell_type": "code",
   "execution_count": 58,
   "metadata": {},
   "outputs": [
    {
     "data": {
      "text/plain": [
       "['It’s good overall. Taste is ok I would say. When I mix it in water in glass without the shaker, it doesn’t mix properly. Lumps remain. I’m not sure how it will mix with shaker but I guess it won’t be a problem.One imp thing is - if you are someone who gets headaches with other protein shakes, this one doesn’t have that problem.I know it’s not an issue for all, but with other brands like MyProtein, I get headache after drinking it. Glad to see this one doesn’t have that feeling. So if your in the same boat, go for this.',\n",
       " 'The product was delivered ontime and Seal was intact.Genuinity  Checked with the provided product code and had also sent an email to Muscle Blaze to varify the product genuinity and yes seller is selling original product.Taste chocolate flavour very delicious and protien mix very well in water and milk. Seller - Kudos to seller for providing orginal product. Keep up the good work.',\n",
       " 'nice',\n",
       " 'You can trust blindly because i use this product since 4 month and result is very good and test also. I tried all flavours and all flavours is awesome u can try rich chocolate its my suggestion and most important point box and scoop stand .Scoop easily find on top you can buy through Amazon because you can check products reality though barcode.Thank you MuscleBlaze ❣️',\n",
       " 'Flavor - Blue Tokai Coffee. Tastes nice (can vary person to person), smells okay and artificial, mixes really well, tastes best with cold water, may try for smoothie, not recommended for long term and twice a day usage.',\n",
       " 'So far i was using premium brands like ON & MY PROTEIN but this product is no less than any premium protein. Very smooth flavour and was blended in water very quickly. Must go for it',\n",
       " 'This protein quality is just outstanding.Amazing  mixability. And the best part is the taste. This is the best protein.',\n",
       " 'As always the quality is top notch',\n",
       " 'It blend in the water so perfectly. It do not leave lumps in water. Taste is also very good. M enjoying this protein. I consume it twice a day on workout days and once in a day on non workout days.',\n",
       " \"The ingredients blend is to the point. The Amino acid profile is accurate. The whey protein is very tasty and healthy. It absorbs very well, I didn't experience any bloting Or any related problems. To summarize this whey protein is amazingly crafted as per the indians need.\",\n",
       " \"Slightly a stevia flavour but a whole packed protien powder specially it's mixability and it's easy to digest\",\n",
       " \"It is osm product because I am using few days so I am recommend to you can buy this products and enjoy your Life it's is also good quality.\",\n",
       " 'One of the purest and best protein I had ever tasted in my life the chocolate flavour is also too good using this from last 1 year and the result is awesome gonna try new flavours now',\n",
       " 'This is the best supplement protein ever. I cannot thank of any other brand that works as effectively as MB. Also the variety of flavours really cater to your palatte',\n",
       " \"Flvour,Absorbency is best..No bloating or abdomen discomfort..Everything is best..Only cons I find that it's costly compared with other similar brands..Thats it..\",\n",
       " 'Absolutely value for money product,I ordered chocolate flavour and taste was great also it’s digestion is easy and as a beginner I would highly recommend you this product',\n",
       " 'Good protein for gym people and the flavour of this protein is very nice and it contain good amount of protein',\n",
       " \"Being a vegetarian instead of lots of trying to built muscles was not possible for me, but after consuming this protein from 1 week i started combat with my protein deficit which aids in muscle building , as we know it's enzyme formula is designed for maximum absorption than any other protein source , love the taste and contents of all essential amino acids .\",\n",
       " 'great protein but shaker is useless cheap quality plastic always leaking when shake or drinking',\n",
       " 'Amazing flavor of rich chocolate, taste is good and easy to melting with water.',\n",
       " 'Video Player is loading.',\n",
       " 'The product is overpriced',\n",
       " 'This product is genuine and one of the best protein available in the market, it comes with a code that you can scan on the muscleblaze website to check its authenticity, the quality of the protein is also very good. It mixes with the water easily and do not create any bubble like other cheap proteins, this is the best product in this price range go for it.',\n",
       " 'Magical Mango flavour is good in taste but very sweet.Sweetness should be minimal.',\n",
       " 'Nice taste u can give it a try i loved mango i will not say its a perfect smooth shake but overall its a good one little bit bloting issue on 2 days but nowadays its good protien definitely it will be in my next month wishlist and the scoop on top is a good inovation nicely packed and a trusted brand which will not play with coustomer mns protein content is also perfect',\n",
       " 'Taste great',\n",
       " 'I really liked this performance whey protein i am consuming this protein from past 25 days and i can say that it has good rate of absorption and the taste is also amazing i would say',\n",
       " 'Best protein in the market best for recovery and keeps you fit and has no side effects',\n",
       " 'Super power protein series of Biozyme, it was amazing supplements.',\n",
       " 'I am using this from a long time.And it gives me result as best as i expect everytime. Apart it tastes the best.',\n",
       " 'Easy in digest and better flavours',\n",
       " 'Not effective for beginners 😞',\n",
       " \"I am using this product from 2-3 weeks and it's taste and quality is very impressive. The quality of the packaging is also very fine. Worth buying this product.\",\n",
       " 'Very nice product with good absorption,good taste of choclate , help in growing healthier muscles ,has essential amount of bcaa , and other amino acids .',\n",
       " \"A very good protien.It has a very distuingish scent. It is compatable with body. It doesn't have any side effects. Overall Worth purchasing.\",\n",
       " '',\n",
       " '1. Absorption is excellent.2. Flavour is good.3. Yes, It works. But requires diet & intense workout.4. For first few days I had bloating issues. But after that bloating issues minimized. Almost completed 1 kg.Suggestion- Better to go for Plant Protein like man matters plant protein.',\n",
       " 'Nice Product and no leakage from shaker',\n",
       " 'Very helpful supplement in gaining muscles. Tastes so good and mixes very well .',\n",
       " 'amazing product nice taste appropriate protein content packaging is awesome  tasty love this product so much',\n",
       " 'Amazing',\n",
       " 'I used this for 3 months and even suggested this to my friends,  quality if this proteins is amazing,  it tastes so good. It gives you 24gm protein in one scoop and 2-3 scoop per day is enough for anyone so if you wanna try definitely go for this one',\n",
       " \"Love the way it works. I usually take protein post-workout. I also take creatine before workout. I've used many whey products, but this is my favorite in my opinion. It gives you muscle gain given that you work-out correctly. The flavor is the main draw back. I used big muscles Belgian chocolate it tastes better than this rich chocolate. There are no stomach problems while I used this.\",\n",
       " \"I'm satisfied with the results. This whey Protein is affordable and effective.  Mixes very well both in water as well as milk\",\n",
       " 'Good flavour with good resultsLiked it',\n",
       " \"Loved the rich taste. It's rich chocolate. Unlike other brands where you feel it's powdery taste here it completely blends. The brand does justice to its name . With in few seconds of shaking i couldn't find any lumps as the misability is great. Didn't find any bloating or digestion problem. Great product\",\n",
       " 'Good quality at affordable price range just awesome loved the taste easily mixable flavor is very good with good packaging overall giving 10 out of 10',\n",
       " 'I liked the protein nd its taste is very amazing nd it helps keep my daily protein intake upto mark',\n",
       " 'This has to be the best protein for beginners at gym as it helps to enhance performance.  Provide 24 gm protein in one scoop so girls also can use it.',\n",
       " 'I tried Chocolate and Kesar Thandai. Chocolate flavour is okay but less sweet whereas Kesar Thandai has perfect flavour but more sweet. Overall this is one of the best protein made in India, available as of today.Note: I am regular user of Dymatize ISO 100 since 4 year and also tried many national and international whey proteins. If I compare MB with ISO 100 then MB stands at 70% of ISO 100. But, this is the only next available brand with quality in the India. So, go for this :-)',\n",
       " 'So the protein taste is good And it dissolves so quickly.Happy to buy again',\n",
       " 'Nice',\n",
       " 'Using this brand from last 2years. Quality and taste is very good. 1st time trying this chocolate flavour. And it’s awesome.',\n",
       " 'Best whey is this price good in taste should reccomend everyone👍🏻',\n",
       " 'A good whey protein at this reasonable price awesome flavor,easily mixable and on time delivery with good and safe packaging just wow',\n",
       " 'The taste of this flavour was very delicious and feel energetic',\n",
       " 'Per day 2 scupemorning (after workout) + night (before sleep)1 year challenge successful (good results) 45kg to 60kgIm not only trust protein (main concentration food)Recommend for all men and women',\n",
       " \"The flavour and it's taste was really better\",\n",
       " 'Original product.Taste is great.Probably the best whey protein for beginners.Delivery was very fast.',\n",
       " 'The whey is absolutely amazing easily digestible gives good feel of fullness and also the effect of the whey can be seen with in few days ... Best protein out there',\n",
       " 'Cannot really say much just started using',\n",
       " \"Flavour - 4/5after taste - noticable for 20 minsPackaging - 5/5Absorbency - 5/5mix - welldigestion - 4/5no bloating, gassiness, flatulence, nausea, vomitingmild fullness is there (not in bad way)don't excercise after drinking it for 1 hrdrinking after excercise is advisabledon't take meal atleast 1.5 hr before and after protein shake\",\n",
       " '',\n",
       " '',\n",
       " 'Flavour - 5/5Packaging - 5/5Absorbency - 5/5digestion - 5/5This is the best whey protein for beginners. I would happily recommend it for others.',\n",
       " '20 days result, if you want steal body take 3 mounts counties, not sure',\n",
       " 'Tastes good.Nice product',\n",
       " '. It made me so angry as how to measure now 😤. The taste is alright  as its my first time with any whey protein but getting no scoop made me annoyed.',\n",
       " 'Very good product and flavour is also good....',\n",
       " 'Easy to mix .Flavour is awsome.No lumps formed.Very less shake needed to mix.Packaging is unique and best till now in any of the proteins that i have tried till date.',\n",
       " 'Good productEasy to mix and taste is good as well',\n",
       " \"Really a good protein .improve my strength in a week . Even I'm a Beginner its show too good results didn't except such good result . I order chocolate flavour and its was so good in taste .10 on 10 protein for me\",\n",
       " 'The taste is good, the mixibility is good and also I myself didn’t get any bloating and also helped in gaining good results!',\n",
       " 'It is a good product. Visible results but started to see those after a month of continue use of 1 scoop. No problem in digestion. Can be taken by beginners too',\n",
       " 'Boosts muscle strength and muscle growth . Its a indeed take when u r working out . This is one of the best i could have . Really loved the flavour.',\n",
       " \"This is my second order. Honestly there s no way to verify the protein content or absorbability at home so I am going on a bit of faith here while writing this. Earlier i have used ON whey and the difference on the digestive front is very evidentMB bioenzyme is super digestible for me ( no diarrhoea, protein farts and such), i take this with milk and yet there are no digestive issues probably because of the enzymes claimed to exist in the product. The flavour is awesome, tastes like a dessert when blended with milk. overall i like the taste, digestibility but i am not in a position to certify the macros claimed (it's sweet so 2g carb seems a little far fetched)Since I take this as a part of a varied diet( not for bodybuilding but only to include more proteins in Indian diet), i cannot comment on effectiveness for muscle building\",\n",
       " 'Best Quality Product Original',\n",
       " 'High quality of proteinVery fast digestiveValue for money product',\n",
       " 'One the best after workout Protein I got .. Always a muscleblaze trusted brand. Take this immediate after workout and u will see the difference after a month .',\n",
       " 'Best product. Good taste , complete protein content. Value for money',\n",
       " 'Best for beginners and intermediate',\n",
       " 'Very good for beginners i am in the intial stage right now hope it does not disappoint',\n",
       " \"I am writing this review after using it 1 month. All the functions are gud but when talk about taste, it is also gud but the flavour I've taken wasn't gud and sugar level is very high and only this disappointed me.Overall product is fine as the brand says it all !❤️\",\n",
       " 'Good quality nice test fast recovery but prize very high',\n",
       " 'The best',\n",
       " 'Ok ok product',\n",
       " 'I have bought this product from amazon for the last few times...this time product taste seems different and lower in quality from the previous  few times .Is it a different supplier this time?There is a drop in quality for sureUnhappy !']"
      ]
     },
     "execution_count": 58,
     "metadata": {},
     "output_type": "execute_result"
    }
   ],
   "source": [
    "review_list"
   ]
  },
  {
   "cell_type": "code",
   "execution_count": null,
   "metadata": {},
   "outputs": [],
   "source": [
    "\"https://www.amazon.in/MuscleBlaze-Biozyme-Performance-Certified-Chocolate/product-reviews/B09HCGJBYL/ref=cm_cr_dp_d_show_all_btm?ie=UTF8&reviewerType=all_reviews&pageNumber=\""
   ]
  },
  {
   "cell_type": "code",
   "execution_count": 7,
   "metadata": {},
   "outputs": [],
   "source": [
    "\n",
    "# Iterate through the reviews and extract the review text and rating\n",
    "for review in reviews:\n",
    "    text = review.find('p', class_='review-text').get_text()\n",
    "    rating = review.find('div', class_='rating').get('aria-label')\n",
    "    \n",
    "    # Print the review text and rating\n",
    "    print('Review text:', text)\n",
    "    print('Rating:', rating)\n"
   ]
  },
  {
   "cell_type": "code",
   "execution_count": null,
   "metadata": {},
   "outputs": [],
   "source": []
  }
 ],
 "metadata": {
  "kernelspec": {
   "display_name": "env_full",
   "language": "python",
   "name": "python3"
  },
  "language_info": {
   "codemirror_mode": {
    "name": "ipython",
    "version": 3
   },
   "file_extension": ".py",
   "mimetype": "text/x-python",
   "name": "python",
   "nbconvert_exporter": "python",
   "pygments_lexer": "ipython3",
   "version": "3.6.13"
  },
  "orig_nbformat": 4,
  "vscode": {
   "interpreter": {
    "hash": "4143369175452a09bf1ebe59f83be2ea2c3fcf74527e16c377decf9112d8eeed"
   }
  }
 },
 "nbformat": 4,
 "nbformat_minor": 2
}
